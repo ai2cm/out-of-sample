{
 "cells": [
  {
   "cell_type": "code",
   "execution_count": 1,
   "metadata": {},
   "outputs": [],
   "source": [
    "import run_dict\n",
    "import xarray as xr\n",
    "import fsspec\n",
    "import fv3fit\n",
    "import os\n",
    "import matplotlib.pyplot as plt\n",
    "import numpy as np\n",
    "import vcm\n",
    "from vcm.catalog import catalog \n",
    "from vcm import DerivedMapping\n",
    "import dask.diagnostics\n",
    "import math\n",
    "import cftime\n",
    "import time\n",
    "import fv3viz\n",
    "import joblib\n",
    "import intake\n",
    "import pandas as pd\n",
    "import json\n",
    "import cartopy.crs as ccrs\n",
    "from math import isclose\n",
    "from fv3fit.sklearn._ocsvm_novelty_detector import OCSVMNoveltyDetector\n",
    "from fv3fit.sklearn._min_max_novelty_detector import MinMaxNoveltyDetector\n"
   ]
  },
  {
   "cell_type": "code",
   "execution_count": 2,
   "metadata": {},
   "outputs": [],
   "source": [
    "fv3viz.use_colorblind_friendly_style()"
   ]
  },
  {
   "cell_type": "code",
   "execution_count": null,
   "metadata": {},
   "outputs": [],
   "source": []
  }
 ],
 "metadata": {
  "kernelspec": {
   "display_name": "Python 3",
   "language": "python",
   "name": "python3"
  },
  "language_info": {
   "codemirror_mode": {
    "name": "ipython",
    "version": 3
   },
   "file_extension": ".py",
   "mimetype": "text/x-python",
   "name": "python",
   "nbconvert_exporter": "python",
   "pygments_lexer": "ipython3",
   "version": "3.7.7"
  }
 },
 "nbformat": 4,
 "nbformat_minor": 4
}
